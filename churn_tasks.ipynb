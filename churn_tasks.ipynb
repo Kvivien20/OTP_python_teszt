{
 "cells": [
  {
   "cell_type": "markdown",
   "metadata": {},
   "source": [
    "# Üdvözöllek"
   ],
   "id": "c0a14213cedfe35"
  },
  {
   "cell_type": "markdown",
   "metadata": {},
   "source": [
    "Ez a notebook az OTP Bank Nyrt.  Kockázati modellezési osztály kiválasztási eljárásához készült. A célja , hogy a jelölt python - és részben modellezési -  ismereteit felmérje 4 feladaton keresztül. A 4. feladathoz szükséges lehet egy kis kutatásra az interneten amennyiben még nem illesztettél klasszifikációs modellt bináris célváltozóra. A feladatok megoldására a HR -es kolléga által kiküldött email után 1 hét áll rendelkezésre. A megoldásokat notebook formában várjuk az otto.laszlo.schlegl@otpbank.hu email címre.  A kitöltött notebookban szerepeljen a megoldáshoz használt kódrészlet. "
   ],
   "id": "852462b5667d87ab"
  },
  {
   "cell_type": "markdown",
   "metadata": {},
   "source": [
    "####Feladat 0.",
    "\n",
    "Töltsd le és olvasd be a mappában található csv fájlt (churn_data.csv)"
   ],
   "id": "a952b60785e67259"
  },
  {
   "cell_type": "code",
   "metadata": {
    "ExecuteTime": {
     "end_time": "2025-05-18T10:23:37.630406Z",
     "start_time": "2025-05-18T10:23:37.593508Z"
    }
   },
   "source": [
    "import pandas as pd\n",
    "\n",
    "file_name = 'churn_data.csv'\n",
    "df = pd.read_csv(file_name)\n",
    "#egyszerűbben: df = pd.read_csv('churn_data.csv')\n",
    "\n",
    "print(\"Teszt:\")\n",
    "print(df.head())"
   ],
   "id": "cfd3ee532083113b",
   "outputs": [
    {
     "name": "stdout",
     "output_type": "stream",
     "text": [
      "Teszt:\n",
      "   CustomerID  Gender  SeniorCitizen  Tenure          StreamingTV  \\\n",
      "0           0  Female              0       4                   No   \n",
      "1           1    Male              0      27  No internet service   \n",
      "2           2    Male              0      45                   No   \n",
      "3           3    Male              0      61                  Yes   \n",
      "4           4    Male              0      71                  Yes   \n",
      "\n",
      "         Contract PaperlessBilling            PaymentMethod  MonthlyCharges  \\\n",
      "0  Month-to-month              Yes             Mailed check           45.30   \n",
      "1        One year               No             Mailed check           20.30   \n",
      "2        One year              Yes  Credit card (automatic)           95.00   \n",
      "3        One year              Yes         Electronic check          106.00   \n",
      "4        Two year              Yes         Electronic check          105.25   \n",
      "\n",
      "  TotalCharges  Churn  \n",
      "0       196.95      1  \n",
      "1       595.05      0  \n",
      "2      4368.85      0  \n",
      "3       6547.7      1  \n",
      "4      7291.75      0  \n"
     ]
    }
   ],
   "execution_count": 61
  },
  {
   "cell_type": "markdown",
   "metadata": {},
   "source": [
    "#### Feladat 1."
   ],
   "id": "d9ae0d84177fe016"
  },
  {
   "cell_type": "markdown",
   "metadata": {},
   "source": [
    "Mekkora az átlag churn ráta a 9 hónapnál régebbi ügyfeleknél a különböző szerződéstípusok esetén? (ha nem ismered a pandassql csomagot, akkor keress más megoldást)"
   ],
   "id": "b9bf9d62ad492b29"
  },
  {
   "cell_type": "code",
   "metadata": {
    "ExecuteTime": {
     "end_time": "2025-05-18T10:23:40.302483Z",
     "start_time": "2025-05-18T10:23:40.106434Z"
    }
   },
   "source": [
    "#1.Feladat- v1\n",
    "df_filtered = df[df['Tenure'] > 9]\n",
    "\n",
    "average_churn_by_contract = df_filtered.groupby('Contract')['Churn'].mean()\n",
    "\n",
    "print(\"Átlagos churn ráta (9+ hónap) szerződéstípusonként:\")\n",
    "print(average_churn_by_contract)\n",
    "\n",
    "#1.Feladat- v2- pansdassql\n",
    "import pandasql as psql\n",
    "\n",
    "query = \"\"\"\n",
    "SELECT Contract, AVG(Churn) as avg_churn\n",
    "FROM df\n",
    "WHERE Tenure > 9\n",
    "GROUP BY Contract\n",
    "\"\"\"\n",
    "# result = psql.sqldf(query, locals())\n",
    "print(\"\\nÁtlagos churn ráta (9+ hónap) szerződéstípusonként pandassql-lel:\")\n",
    "result = psql.sqldf(query)\n",
    "print(result)"
   ],
   "id": "fdd9d8e71ce202a",
   "outputs": [
    {
     "name": "stdout",
     "output_type": "stream",
     "text": [
      "Átlagos churn ráta (9+ hónap) szerződéstípusonként:\n",
      "Contract\n",
      "Month-to-month    0.346606\n",
      "One year          0.120040\n",
      "Two year          0.026408\n",
      "Name: Churn, dtype: float64\n",
      "\n",
      "Átlagos churn ráta (9+ hónap) szerződéstípusonként pandassql-lel:\n",
      "         Contract  avg_churn\n",
      "0  Month-to-month   0.346606\n",
      "1        One year   0.120040\n",
      "2        Two year   0.026408\n"
     ]
    }
   ],
   "execution_count": 62
  },
  {
   "cell_type": "markdown",
   "metadata": {},
   "source": [
    "#### Feladat 2."
   ],
   "id": "81454448ce74d506"
  },
  {
   "cell_type": "markdown",
   "metadata": {},
   "source": [
    "Vizsgáld meg a lehetséges változók típusát és eloszlását, ahol szükséges, ott kezeld a hiányzó értékeket!"
   ],
   "id": "194d532dec05fde4"
  },
  {
   "cell_type": "code",
   "metadata": {
    "ExecuteTime": {
     "end_time": "2025-05-18T10:23:56.848590Z",
     "start_time": "2025-05-18T10:23:56.770484Z"
    }
   },
   "source": [
    "print(df.info())\n",
    "\n",
    "categorical_cols = df.select_dtypes(include=['object']).columns.tolist()\n",
    "numerical_cols = df.select_dtypes(include=['int64', 'float64']).columns.tolist()\n",
    "print(\"Kategóriák:\", categorical_cols)\n",
    "print(\"Numerikus oszlopok:\", numerical_cols)\n",
    "\n",
    "print(\"\\nNumerikus változók statisztikái:\")\n",
    "print(df.describe())\n",
    "\n",
    "print(\"\\nKategorikus változók értékeinek eloszlása:\")\n",
    "for col in df.select_dtypes(include='object').columns:\n",
    "    print(f\"\\n{col} értékek:\")\n",
    "    print(df[col].value_counts())\n",
    "\n",
    "print(\"\\nHiányzó értékek száma oszloponként:\")\n",
    "print(df.isnull().sum())\n",
    "print((df == '').sum())\n",
    "\n",
    "#TotalCharges object- 9 helyen hiányzik\n",
    "total_charges_numeric = pd.to_numeric(df['TotalCharges'], errors='coerce')\n",
    "print(\"Hiányzó TotalCharges értékek:\", total_charges_numeric.isna().sum())\n",
    "print(df[total_charges_numeric.isna()])\n",
    "\n",
    "df['TotalCharges'] = pd.to_numeric(df['TotalCharges'], errors='coerce')\n",
    "print(df['TotalCharges'].isna().sum())\n",
    "\n",
    "df['TotalCharges'].fillna(0, inplace=True)\n",
    "# df['TotalCharges'] = df['TotalCharges'].fillna(df['TotalCharges'].median())\n",
    "#df = df.dropna(subset=['TotalCharges'])\n",
    "\n",
    "print(\"Ellenőrzés: TotalCharges típusa:\", df['TotalCharges'].dtype, \", hiányzók:\", df['TotalCharges'].isna().sum())\n"
   ],
   "id": "f1efd02b06ec3679",
   "outputs": [
    {
     "name": "stdout",
     "output_type": "stream",
     "text": [
      "<class 'pandas.core.frame.DataFrame'>\n",
      "RangeIndex: 5000 entries, 0 to 4999\n",
      "Data columns (total 11 columns):\n",
      " #   Column            Non-Null Count  Dtype  \n",
      "---  ------            --------------  -----  \n",
      " 0   CustomerID        5000 non-null   int64  \n",
      " 1   Gender            5000 non-null   object \n",
      " 2   SeniorCitizen     5000 non-null   int64  \n",
      " 3   Tenure            5000 non-null   int64  \n",
      " 4   StreamingTV       5000 non-null   object \n",
      " 5   Contract          5000 non-null   object \n",
      " 6   PaperlessBilling  5000 non-null   object \n",
      " 7   PaymentMethod     5000 non-null   object \n",
      " 8   MonthlyCharges    5000 non-null   float64\n",
      " 9   TotalCharges      5000 non-null   object \n",
      " 10  Churn             5000 non-null   int64  \n",
      "dtypes: float64(1), int64(4), object(6)\n",
      "memory usage: 429.8+ KB\n",
      "None\n",
      "Kategóriák: ['Gender', 'StreamingTV', 'Contract', 'PaperlessBilling', 'PaymentMethod', 'TotalCharges']\n",
      "Numerikus oszlopok: ['CustomerID', 'SeniorCitizen', 'Tenure', 'MonthlyCharges', 'Churn']\n",
      "\n",
      "Numerikus változók statisztikái:\n",
      "        CustomerID  SeniorCitizen       Tenure  MonthlyCharges        Churn\n",
      "count  5000.000000    5000.000000  5000.000000     5000.000000  5000.000000\n",
      "mean   2499.500000       0.163000    32.202400       64.798590     0.267800\n",
      "std    1443.520003       0.369403    24.472973       30.130979     0.442857\n",
      "min       0.000000       0.000000     0.000000       18.250000     0.000000\n",
      "25%    1249.750000       0.000000     9.000000       35.400000     0.000000\n",
      "50%    2499.500000       0.000000    29.000000       70.550000     0.000000\n",
      "75%    3749.250000       0.000000    55.000000       89.912500     1.000000\n",
      "max    4999.000000       1.000000    72.000000      118.750000     1.000000\n",
      "\n",
      "Kategorikus változók értékeinek eloszlása:\n",
      "\n",
      "Gender értékek:\n",
      "Gender\n",
      "Male      2551\n",
      "Female    2449\n",
      "Name: count, dtype: int64\n",
      "\n",
      "StreamingTV értékek:\n",
      "StreamingTV\n",
      "No                     1973\n",
      "Yes                    1940\n",
      "No internet service    1087\n",
      "Name: count, dtype: int64\n",
      "\n",
      "Contract értékek:\n",
      "Contract\n",
      "Month-to-month    2764\n",
      "Two year          1173\n",
      "One year          1063\n",
      "Name: count, dtype: int64\n",
      "\n",
      "PaperlessBilling értékek:\n",
      "PaperlessBilling\n",
      "Yes    2946\n",
      "No     2054\n",
      "Name: count, dtype: int64\n",
      "\n",
      "PaymentMethod értékek:\n",
      "PaymentMethod\n",
      "Electronic check             1705\n",
      "Mailed check                 1149\n",
      "Bank transfer (automatic)    1083\n",
      "Credit card (automatic)      1063\n",
      "Name: count, dtype: int64\n",
      "\n",
      "TotalCharges értékek:\n",
      "TotalCharges\n",
      "           9\n",
      "20.2       7\n",
      "19.75      7\n",
      "19.9       7\n",
      "20.15      6\n",
      "          ..\n",
      "3851.45    1\n",
      "3782.4     1\n",
      "140.95     1\n",
      "106.8      1\n",
      "7114.25    1\n",
      "Name: count, Length: 4716, dtype: int64\n",
      "\n",
      "Hiányzó értékek száma oszloponként:\n",
      "CustomerID          0\n",
      "Gender              0\n",
      "SeniorCitizen       0\n",
      "Tenure              0\n",
      "StreamingTV         0\n",
      "Contract            0\n",
      "PaperlessBilling    0\n",
      "PaymentMethod       0\n",
      "MonthlyCharges      0\n",
      "TotalCharges        0\n",
      "Churn               0\n",
      "dtype: int64\n",
      "CustomerID          0\n",
      "Gender              0\n",
      "SeniorCitizen       0\n",
      "Tenure              0\n",
      "StreamingTV         0\n",
      "Contract            0\n",
      "PaperlessBilling    0\n",
      "PaymentMethod       0\n",
      "MonthlyCharges      0\n",
      "TotalCharges        0\n",
      "Churn               0\n",
      "dtype: int64\n",
      "Hiányzó TotalCharges értékek: 9\n",
      "      CustomerID  Gender  SeniorCitizen  Tenure          StreamingTV  \\\n",
      "897          897  Female              0       0                  Yes   \n",
      "1228        1228    Male              0       0  No internet service   \n",
      "1337        1337    Male              0       0  No internet service   \n",
      "2226        2226  Female              0       0                  Yes   \n",
      "2396        2396  Female              0       0                  Yes   \n",
      "3188        3188    Male              0       0  No internet service   \n",
      "3280        3280    Male              0       0                   No   \n",
      "4563        4563    Male              0       0  No internet service   \n",
      "4599        4599  Female              0       0  No internet service   \n",
      "\n",
      "      Contract PaperlessBilling              PaymentMethod  MonthlyCharges  \\\n",
      "897   Two year               No               Mailed check           73.35   \n",
      "1228  Two year               No               Mailed check           20.25   \n",
      "1337  Two year               No               Mailed check           25.75   \n",
      "2226  Two year               No               Mailed check           80.85   \n",
      "2396  Two year              Yes  Bank transfer (automatic)           52.55   \n",
      "3188  Two year               No               Mailed check           19.85   \n",
      "3280  Two year              Yes  Bank transfer (automatic)           61.90   \n",
      "4563  Two year               No               Mailed check           25.35   \n",
      "4599  Two year               No               Mailed check           20.00   \n",
      "\n",
      "     TotalCharges  Churn  \n",
      "897                    0  \n",
      "1228                   0  \n",
      "1337                   0  \n",
      "2226                   0  \n",
      "2396                   0  \n",
      "3188                   0  \n",
      "3280                   0  \n",
      "4563                   0  \n",
      "4599                   0  \n",
      "9\n",
      "Ellenőrzés: TotalCharges típusa: float64 , hiányzók: 0\n"
     ]
    }
   ],
   "execution_count": 63
  },
  {
   "cell_type": "markdown",
   "metadata": {},
   "source": [
    "#### Feladat 3."
   ],
   "id": "2bdd34be31207db3"
  },
  {
   "cell_type": "markdown",
   "metadata": {},
   "source": [
    "Írj egy függvényt, amely a folytonos változókat 10 egyenlő részre osztja."
   ],
   "id": "733b6ffd66811b5"
  },
  {
   "cell_type": "code",
   "metadata": {
    "ExecuteTime": {
     "end_time": "2025-05-18T10:24:02.040741Z",
     "start_time": "2025-05-18T10:24:01.978255Z"
    }
   },
   "source": [
    "def binning_features(df, x, grp=10):\n",
    "    new_df = df.copy()\n",
    "\n",
    "    new_col = f\"{x}_bin\"\n",
    "\n",
    "    new_df[new_col] = pd.qcut(new_df[x], q=grp, duplicates='drop')\n",
    "\n",
    "    return new_df\n",
    "\n",
    "df_binned = binning_features(df, 'MonthlyCharges')\n",
    "print(df_binned[['MonthlyCharges', 'MonthlyCharges_bin']].head())"
   ],
   "id": "bd55cc667e6b54c3",
   "outputs": [
    {
     "name": "stdout",
     "output_type": "stream",
     "text": [
      "   MonthlyCharges MonthlyCharges_bin\n",
      "0           45.30     (25.05, 45.65]\n",
      "1           20.30     (20.05, 25.05]\n",
      "2           95.00    (94.3, 102.605]\n",
      "3          106.00  (102.605, 118.75]\n",
      "4          105.25  (102.605, 118.75]\n"
     ]
    }
   ],
   "execution_count": 64
  },
  {
   "cell_type": "markdown",
   "metadata": {},
   "source": [
    "#### Feladat 4."
   ],
   "id": "84a08570a5fadca7"
  },
  {
   "cell_type": "markdown",
   "metadata": {},
   "source": [
    "Építs klasszifikációs modellt a churn (célváltozó) előrejelzésére. (pl. a scikit learn csomag felhasználásával)\n",
    "\n",
    "Értékeld ki a modellt egy független mintán, a bináris célváltozójú klasszifikációs modellekre alkalmazott mutatókkal!"
   ],
   "id": "9e3abc6b1b94da45"
  },
  {
   "cell_type": "code",
   "metadata": {
    "ExecuteTime": {
     "end_time": "2025-05-18T10:25:40.491194Z",
     "start_time": "2025-05-18T10:25:39.438651Z"
    }
   },
   "source": [
    "#!pip install scikit-learn\n",
    "#!pip install matplotlib\n",
    "from sklearn.model_selection import train_test_split\n",
    "from sklearn.preprocessing import StandardScaler, OneHotEncoder\n",
    "from sklearn.compose import ColumnTransformer\n",
    "from sklearn.pipeline import Pipeline\n",
    "from sklearn.ensemble import RandomForestClassifier\n",
    "from sklearn.metrics import classification_report, accuracy_score, recall_score, f1_score, confusion_matrix, roc_auc_score, roc_curve\n",
    "import matplotlib.pyplot as plt\n",
    "\n",
    "#cél és magyarázó változók a modellben\n",
    "y = df['Churn']\n",
    "X = df.drop(columns=['Churn', 'CustomerID'])\n",
    "\n",
    "categorical_cols = X.select_dtypes(include=['object']).columns.tolist()\n",
    "numerical_cols = X.select_dtypes(include=['int64', 'float64']).columns.tolist()\n",
    "\n",
    "preprocessor = ColumnTransformer(transformers=[\n",
    "    ('num', StandardScaler(), numerical_cols),\n",
    "    ('cat', OneHotEncoder(handle_unknown='ignore'), categorical_cols)\n",
    "])\n",
    "\n",
    "model = Pipeline([\n",
    "    ('elofeldolgozas', preprocessor),\n",
    "    ('osztalyozo', RandomForestClassifier(random_state=42))\n",
    "])\n",
    "\n",
    "# 80% tanító, 20% teszt minta\n",
    "X_train, X_test, y_train, y_test = train_test_split(X, y, test_size=0.2, random_state=42, stratify=y)\n",
    "model.fit(X_train, y_train)\n",
    "\n",
    "# előrejelzés\n",
    "y_pred = model.predict(X_test)\n",
    "y_prob = model.predict_proba(X_test)[:, 1]\n",
    "\n",
    "fpr, tpr, thresholds = roc_curve(y_test, y_prob)\n",
    "\n",
    "plt.figure(figsize=(8, 6))\n",
    "plt.plot(fpr, tpr, label=\"ROC görbe (AUC = {:.2f})\".format(roc_auc_score(y_test, y_prob)))\n",
    "plt.plot([0, 1], [0, 1], 'k--')\n",
    "plt.xlabel(\"Hamis pozitívak aránya\")\n",
    "plt.ylabel(\"Valódi pozitív arány\")\n",
    "plt.title(\"ROC görbe\")\n",
    "plt.legend()\n",
    "plt.grid(True)\n",
    "plt.show()\n",
    "\n",
    "print(\"Jelentés:\\n\", classification_report(y_test, y_pred))\n",
    "print(\"Pontosság :\", accuracy_score(y_test, y_pred))\n",
    "print(\"Érzékenység:\", recall_score(y_test, y_pred))\n",
    "print(\"F1-érték:\", f1_score(y_test, y_pred))\n",
    "print(\"Konfúziós mátrix:\\n\", confusion_matrix(y_test, y_pred))\n",
    "print(\"ROC AUC érték:\", roc_auc_score(y_test, y_prob))\n",
    "\n",
    "#ennél jobbat sajnos nem sikerült kihoznom\n"
   ],
   "id": "291fe01625c04e65",
   "outputs": [
    {
     "data": {
      "text/plain": [
       "<Figure size 800x600 with 1 Axes>"
      ],
      "image/png": "[encoded data removed]"
     },
     "metadata": {},
     "output_type": "display_data"
    },
    {
     "name": "stdout",
     "output_type": "stream",
     "text": [
      "Jelentés:\n",
      "               precision    recall  f1-score   support\n",
      "\n",
      "           0       0.82      0.89      0.85       732\n",
      "           1       0.60      0.47      0.53       268\n",
      "\n",
      "    accuracy                           0.77      1000\n",
      "   macro avg       0.71      0.68      0.69      1000\n",
      "weighted avg       0.76      0.77      0.76      1000\n",
      "\n",
      "Pontosság : 0.774\n",
      "Érzékenység: 0.4664179104477612\n",
      "F1-érték: 0.5252100840336135\n",
      "Konfúziós mátrix:\n",
      " [[649  83]\n",
      " [143 125]]\n",
      "ROC AUC érték: 0.8054884389527771\n"
     ]
    }
   ],
   "execution_count": 70
  }
 ],
 "metadata": {
  "kernelspec": {
   "display_name": "Python 3",
   "language": "python",
   "name": "python3"
  },
  "language_info": {
   "codemirror_mode": {
    "name": "ipython",
    "version": 3
   },
   "file_extension": ".py",
   "mimetype": "text/x-python",
   "name": "python",
   "nbconvert_exporter": "python",
   "pygments_lexer": "ipython3",
   "version": "3.8.5"
  }
 },
 "nbformat": 4,
 "nbformat_minor": 5
}
